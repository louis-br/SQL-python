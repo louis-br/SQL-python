{
 "cells": [
  {
   "cell_type": "code",
   "execution_count": 5,
   "metadata": {},
   "outputs": [],
   "source": [
    "import MySQLdb"
   ]
  },
  {
   "cell_type": "code",
   "execution_count": 6,
   "metadata": {},
   "outputs": [
    {
     "data": {
      "text/plain": [
       "(('10101', 'Srinivasan', 'Comp. Sci.', Decimal('65000.00')),\n",
       " ('12121', 'Wu', 'Finance', Decimal('90000.00')),\n",
       " ('15151', 'Mozart', 'Music', Decimal('40000.00')),\n",
       " ('22222', 'Einstein', 'Physics', Decimal('95000.00')),\n",
       " ('32343', 'El Said', 'History', Decimal('60000.00')),\n",
       " ('33456', 'Gold', 'Physics', Decimal('87000.00')),\n",
       " ('45565', 'Katz', 'Comp. Sci.', Decimal('75000.00')),\n",
       " ('58583', 'Califieri', 'History', Decimal('62000.00')),\n",
       " ('76543', 'Singh', 'Finance', Decimal('80000.00')),\n",
       " ('76766', 'Crick', 'Biology', Decimal('72000.00')),\n",
       " ('83821', 'Brandt', 'Comp. Sci.', Decimal('92000.00')),\n",
       " ('98345', 'Kim', 'Elec. Eng.', Decimal('80000.00')))"
      ]
     },
     "execution_count": 6,
     "metadata": {},
     "output_type": "execute_result"
    }
   ],
   "source": [
    "db1 = MySQLdb.connect(\"mysql\", \"root\", \"example\", \"university\")\n",
    "cursor1 = db1.cursor()\n",
    "cursor1.execute(\"select * from instructor\")\n",
    "professores = cursor1.fetchall()\n",
    "professores"
   ]
  },
  {
   "cell_type": "code",
   "execution_count": 7,
   "metadata": {},
   "outputs": [
    {
     "data": {
      "text/html": [
       "<div>\n",
       "<style scoped>\n",
       "    .dataframe tbody tr th:only-of-type {\n",
       "        vertical-align: middle;\n",
       "    }\n",
       "\n",
       "    .dataframe tbody tr th {\n",
       "        vertical-align: top;\n",
       "    }\n",
       "\n",
       "    .dataframe thead th {\n",
       "        text-align: right;\n",
       "    }\n",
       "</style>\n",
       "<table border=\"1\" class=\"dataframe\">\n",
       "  <thead>\n",
       "    <tr style=\"text-align: right;\">\n",
       "      <th></th>\n",
       "      <th>ID</th>\n",
       "      <th>name</th>\n",
       "      <th>dept_name</th>\n",
       "      <th>tot_cred</th>\n",
       "    </tr>\n",
       "  </thead>\n",
       "  <tbody>\n",
       "    <tr>\n",
       "      <th>0</th>\n",
       "      <td>00128</td>\n",
       "      <td>Zhang</td>\n",
       "      <td>Comp. Sci.</td>\n",
       "      <td>102.0</td>\n",
       "    </tr>\n",
       "    <tr>\n",
       "      <th>1</th>\n",
       "      <td>12345</td>\n",
       "      <td>Shankar</td>\n",
       "      <td>Comp. Sci.</td>\n",
       "      <td>32.0</td>\n",
       "    </tr>\n",
       "    <tr>\n",
       "      <th>2</th>\n",
       "      <td>19991</td>\n",
       "      <td>Brandt</td>\n",
       "      <td>History</td>\n",
       "      <td>80.0</td>\n",
       "    </tr>\n",
       "    <tr>\n",
       "      <th>3</th>\n",
       "      <td>23121</td>\n",
       "      <td>Chavez</td>\n",
       "      <td>Finance</td>\n",
       "      <td>110.0</td>\n",
       "    </tr>\n",
       "    <tr>\n",
       "      <th>4</th>\n",
       "      <td>44553</td>\n",
       "      <td>Peltier</td>\n",
       "      <td>Physics</td>\n",
       "      <td>56.0</td>\n",
       "    </tr>\n",
       "  </tbody>\n",
       "</table>\n",
       "</div>"
      ],
      "text/plain": [
       "      ID     name   dept_name  tot_cred\n",
       "0  00128    Zhang  Comp. Sci.     102.0\n",
       "1  12345  Shankar  Comp. Sci.      32.0\n",
       "2  19991   Brandt     History      80.0\n",
       "3  23121   Chavez     Finance     110.0\n",
       "4  44553  Peltier     Physics      56.0"
      ]
     },
     "execution_count": 7,
     "metadata": {},
     "output_type": "execute_result"
    }
   ],
   "source": [
    "import pandas as pd\n",
    "df = pd.read_sql_query(\"select * from student\", db1)\n",
    "df.head()"
   ]
  },
  {
   "cell_type": "code",
   "execution_count": 8,
   "metadata": {},
   "outputs": [
    {
     "data": {
      "text/plain": [
       "[('00128', 'Zhang', 'Comp. Sci.', Decimal('102')),\n",
       " ('12345', 'Shankar', 'Comp. Sci.', Decimal('32')),\n",
       " ('19991', 'Brandt', 'History', Decimal('80')),\n",
       " ('23121', 'Chavez', 'Finance', Decimal('110')),\n",
       " ('44553', 'Peltier', 'Physics', Decimal('56')),\n",
       " ('45678', 'Levy', 'Physics', Decimal('46')),\n",
       " ('54321', 'Williams', 'Comp. Sci.', Decimal('54')),\n",
       " ('55739', 'Sanchez', 'Music', Decimal('38')),\n",
       " ('70557', 'Snow', 'Physics', Decimal('0')),\n",
       " ('76543', 'Brown', 'Comp. Sci.', Decimal('58')),\n",
       " ('76653', 'Aoi', 'Elec. Eng.', Decimal('60')),\n",
       " ('98765', 'Bourikas', 'Elec. Eng.', Decimal('98')),\n",
       " ('98988', 'Tanaka', 'Biology', Decimal('120'))]"
      ]
     },
     "execution_count": 8,
     "metadata": {},
     "output_type": "execute_result"
    }
   ],
   "source": [
    "import psycopg2\n",
    "db2 = psycopg2.connect(host=\"postgres\", database=\"university\", user=\"postgres\", password=\"example\")\n",
    "cursor2 = db2.cursor()\n",
    "cursor2.execute(\"select * from student\")\n",
    "dados2 = cursor2.fetchall()\n",
    "dados2"
   ]
  },
  {
   "cell_type": "code",
   "execution_count": 10,
   "metadata": {},
   "outputs": [
    {
     "name": "stdout",
     "output_type": "stream",
     "text": [
      "None\n"
     ]
    }
   ],
   "source": [
    "print(db1.query(\"select * from student;\"))"
   ]
  },
  {
   "cell_type": "code",
   "execution_count": null,
   "metadata": {},
   "outputs": [],
   "source": []
  }
 ],
 "metadata": {
  "interpreter": {
   "hash": "31f2aee4e71d21fbe5cf8b01ff0e069b9275f58929596ceb00d14d90e3e16cd6"
  },
  "kernelspec": {
   "display_name": "Python 3.9.2 64-bit",
   "language": "python",
   "name": "python3"
  },
  "language_info": {
   "codemirror_mode": {
    "name": "ipython",
    "version": 3
   },
   "file_extension": ".py",
   "mimetype": "text/x-python",
   "name": "python",
   "nbconvert_exporter": "python",
   "pygments_lexer": "ipython3",
   "version": "3.9.2"
  },
  "orig_nbformat": 4
 },
 "nbformat": 4,
 "nbformat_minor": 2
}
